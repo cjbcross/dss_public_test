{
  "metadata": {
    "kernelspec": {
      "display_name": "Python 3",
      "language": "python",
      "name": "python3"
    },
    "analyzedDataset": "unlabeled_customers_prepared",
    "creator": "chris.butler",
    "createdOn": 1647708009749,
    "tags": [],
    "customFields": {}
  },
  "nbformat": 4,
  "nbformat_minor": 0,
  "cells": [
    {
      "execution_count": 0,
      "cell_type": "code",
      "metadata": {},
      "source": [
        "%pylab inline"
      ],
      "outputs": []
    },
    {
      "execution_count": 0,
      "cell_type": "code",
      "metadata": {},
      "source": [
        "import dataiku\n",
        "from dataiku import pandasutils as pdu\n",
        "import pandas as pd"
      ],
      "outputs": []
    },
    {
      "execution_count": 0,
      "cell_type": "code",
      "metadata": {},
      "source": [
        "# Read the dataset as a Pandas dataframe in memory\n",
        "# Note: here, we only read the first 100K rows. Other sampling options are available\n",
        "dataset_unlabeled_customers_prepared \u003d dataiku.Dataset(\"unlabeled_customers_prepared\")\n",
        "df \u003d dataset_unlabeled_customers_prepared.get_dataframe(limit\u003d100000)"
      ],
      "outputs": []
    },
    {
      "execution_count": 0,
      "cell_type": "code",
      "metadata": {},
      "source": [
        "# Get some simple descriptive statistics\n",
        "pdu.audit(df)"
      ],
      "outputs": []
    },
    {
      "execution_count": 0,
      "cell_type": "code",
      "metadata": {},
      "source": [],
      "outputs": []
    }
  ]
}